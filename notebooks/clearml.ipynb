{
 "cells": [
  {
   "cell_type": "code",
   "execution_count": 1,
   "metadata": {},
   "outputs": [
    {
     "name": "stdout",
     "output_type": "stream",
     "text": [
      "env: CLEARML_WEB_HOST=https://app.clear.ml\n",
      "env: CLEARML_API_HOST=https://api.clear.ml\n",
      "env: CLEARML_FILES_HOST=https://files.clear.ml\n",
      "env: CLEARML_API_ACCESS_KEY=PE2W2R0UKTP8Y6NK13YPKAA301VDC4\n",
      "env: CLEARML_API_SECRET_KEY=A6XwE6M69bQWNOtmbta_ExSkDqpyDNWbatXdvrMPDBG_IPe-wzMkCKRbUmvqtGUOcJA\n"
     ]
    }
   ],
   "source": [
    "%env CLEARML_WEB_HOST=https://app.clear.ml\n",
    "%env CLEARML_API_HOST=https://api.clear.ml\n",
    "%env CLEARML_FILES_HOST=https://files.clear.ml\n",
    "%env CLEARML_API_ACCESS_KEY=PE2W2R0UKTP8Y6NK13YPKAA301VDC4\n",
    "%env CLEARML_API_SECRET_KEY=A6XwE6M69bQWNOtmbta_ExSkDqpyDNWbatXdvrMPDBG_IPe-wzMkCKRbUmvqtGUOcJA"
   ]
  },
  {
   "cell_type": "code",
   "execution_count": 2,
   "metadata": {},
   "outputs": [
    {
     "name": "stdout",
     "output_type": "stream",
     "text": [
      "ClearML Task: created new task id=a8f353a43ec34d828bc765badefcb97d\n",
      "2025-03-23 14:44:02,649 - clearml.Task - INFO - No repository found, storing script code instead\n",
      "ClearML results page: https://app.clear.ml/projects/a6f449af4f944f9397d2543151fddc79/experiments/a8f353a43ec34d828bc765badefcb97d/output/log\n"
     ]
    },
    {
     "name": "stdout",
     "output_type": "stream",
     "text": [
      "ClearML Monitor: Could not detect iteration reporting, falling back to iterations as seconds-from-start\n"
     ]
    }
   ],
   "source": [
    "from clearml import Task, Logger\n",
    "\n",
    "task = Task.init(\n",
    "    project_name='ClearML_Test', \n",
    "    task_name='Cat1', \n",
    "    tags=['CatBoost','RandomSearch'])"
   ]
  },
  {
   "cell_type": "code",
   "execution_count": 3,
   "metadata": {},
   "outputs": [],
   "source": [
    "task.close()"
   ]
  },
  {
   "cell_type": "code",
   "execution_count": null,
   "metadata": {},
   "outputs": [],
   "source": []
  }
 ],
 "metadata": {
  "kernelspec": {
   "display_name": "gai-course-project-FHjCIQR8-py3.12",
   "language": "python",
   "name": "python3"
  },
  "language_info": {
   "codemirror_mode": {
    "name": "ipython",
    "version": 3
   },
   "file_extension": ".py",
   "mimetype": "text/x-python",
   "name": "python",
   "nbconvert_exporter": "python",
   "pygments_lexer": "ipython3",
   "version": "3.12.6"
  }
 },
 "nbformat": 4,
 "nbformat_minor": 2
}
